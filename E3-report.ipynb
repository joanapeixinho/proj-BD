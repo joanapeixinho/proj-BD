{
 "cells": [
  {
   "attachments": {},
   "cell_type": "markdown",
   "id": "19b43aee-c23f-4ef7-8547-9c309b2dbecb",
   "metadata": {},
   "source": [
    "# Projeto de Bases de Dados - Parte 3\n",
    "\n",
    "### Docente Responsável\n",
    "\n",
    "Prof. FirstName LastName\n",
    "\n",
    "### Grupo GG\n",
    "<dl>\n",
    "    <dt>HH horas (33.3%)</dt>\n",
    "    <dd>istxxxxxxxx FirstName LastName</dd>\n",
    "    <dt>HH horas (33.3%)</dt>\n",
    "    <dd>istxxxxxxxx FirstName LastName</dd>\n",
    "    <dt>HH horas (33.3%)</dt>\n",
    "    <dd>istxxxxxxxx FirstName LastName</dd>\n",
    "<dl>"
   ]
  },
  {
   "cell_type": "code",
   "execution_count": null,
   "id": "a6545a02-adea-4c57-b704-cfa1f6253e4b",
   "metadata": {
    "tags": []
   },
   "outputs": [],
   "source": [
    "%load_ext sql\n",
    "%sql postgresql://db:db@postgres/db"
   ]
  },
  {
   "attachments": {},
   "cell_type": "markdown",
   "id": "1c5deb6e-396e-401f-9b09-af4cd09491a9",
   "metadata": {
    "tags": []
   },
   "source": [
    "# Empresa de comércio online"
   ]
  },
  {
   "attachments": {},
   "cell_type": "markdown",
   "id": "76eab1e8-8d6a-41e3-b242-553a7f14ba84",
   "metadata": {
    "tags": []
   },
   "source": [
    "## 0. Carregamento da Base de Dados"
   ]
  },
  {
   "attachments": {},
   "cell_type": "markdown",
   "id": "e047df4e-b18b-4c70-8f7b-378b4201ee01",
   "metadata": {},
   "source": [
    "Carregue o esquema de Base de Dados apresentado no Anexo A."
   ]
  },
  {
   "cell_type": "code",
   "execution_count": null,
   "id": "c718077c-5193-47a0-bb76-8f1f43a713be",
   "metadata": {},
   "outputs": [],
   "source": [
    "%%sql\n",
    "\n",
    "DROP TABLE IF EXISTS customer CASCADE;\n",
    "DROP TABLE IF EXISTS orders CASCADE;\n",
    "DROP TABLE IF EXISTS pay CASCADE;\n",
    "DROP TABLE IF EXISTS employee CASCADE;\n",
    "DROP TABLE IF EXISTS process CASCADE;\n",
    "DROP TABLE IF EXISTS department CASCADE;\n",
    "DROP TABLE IF EXISTS workplace CASCADE;\n",
    "DROP TABLE IF EXISTS works CASCADE;\n",
    "DROP TABLE IF EXISTS office CASCADE;\n",
    "DROP TABLE IF EXISTS warehouse CASCADE;\n",
    "DROP TABLE IF EXISTS product CASCADE;\n",
    "DROP TABLE IF EXISTS contains CASCADE;\n",
    "DROP TABLE IF EXISTS supplier CASCADE;\n",
    "DROP TABLE IF EXISTS delivery CASCADE;\n",
    "\n",
    "CREATE TABLE customer(\n",
    "cust_no INTEGER PRIMARY KEY,\n",
    "name VARCHAR(80) NOT NULL,\n",
    "email VARCHAR(254) UNIQUE NOT NULL,\n",
    "phone VARCHAR(15),\n",
    "address VARCHAR(255)\n",
    ");\n",
    "\n",
    "CREATE TABLE orders(\n",
    "order_no INTEGER PRIMARY KEY,\n",
    "cust_no INTEGER NOT NULL REFERENCES customer,\n",
    "date DATE NOT NULL\n",
    "--order_no must exist in contains\n",
    ");\n",
    "\n",
    "CREATE TABLE pay(\n",
    "order_no INTEGER PRIMARY KEY REFERENCES orders,\n",
    "cust_no INTEGER NOT NULL REFERENCES customer\n",
    ");\n",
    "\n",
    "CREATE TABLE employee(\n",
    "ssn VARCHAR(20) PRIMARY KEY,\n",
    "TIN VARCHAR(20) UNIQUE NOT NULL,\n",
    "bdate DATE,\n",
    "name VARCHAR NOT NULL\n",
    "--age must be >=18\n",
    ");\n",
    "\n",
    "CREATE TABLE process(\n",
    "ssn VARCHAR(20) REFERENCES employee,\n",
    "order_no INTEGER REFERENCES orders,\n",
    "PRIMARY KEY (ssn, order_no)\n",
    ");\n",
    "\n",
    "CREATE TABLE department(\n",
    "name VARCHAR PRIMARY KEY\n",
    ");\n",
    "\n",
    "CREATE TABLE workplace(\n",
    "address VARCHAR PRIMARY KEY,\n",
    "lat NUMERIC(8, 6) NOT NULL,\n",
    "long NUMERIC(9, 6) NOT NULL,\n",
    "UNIQUE(lat, long)\n",
    "--address must be in warehouse or office but not both\n",
    ");\n",
    "\n",
    "CREATE TABLE office(\n",
    "address VARCHAR(255) PRIMARY KEY REFERENCES workplace\n",
    ");\n",
    "\n",
    "CREATE TABLE warehouse(\n",
    "address VARCHAR(255) PRIMARY KEY REFERENCES workplace\n",
    ");\n",
    "\n",
    "CREATE TABLE works(\n",
    "ssn VARCHAR(20) REFERENCES employee,\n",
    "name VARCHAR(200) REFERENCES department,\n",
    "address VARCHAR(255) REFERENCES workplace,\n",
    "PRIMARY KEY (ssn, name, address)\n",
    ");\n",
    "\n",
    "CREATE TABLE product(\n",
    "SKU VARCHAR(25) PRIMARY KEY,\n",
    "name VARCHAR(200) NOT NULL,\n",
    "description VARCHAR,\n",
    "price NUMERIC(10, 2) NOT NULL,\n",
    "ean NUMERIC(13) UNIQUE\n",
    ");\n",
    "\n",
    "CREATE TABLE contains(\n",
    "order_no INTEGER REFERENCES orders,\n",
    "SKU VARCHAR(25) REFERENCES product,\n",
    "qty INTEGER,\n",
    "PRIMARY KEY (order_no, SKU)\n",
    ");\n",
    "\n",
    "CREATE TABLE supplier(\n",
    "TIN VARCHAR(20) PRIMARY KEY,\n",
    "name VARCHAR(200),\n",
    "address VARCHAR(255),\n",
    "SKU VARCHAR(25) REFERENCES product,\n",
    "date DATE\n",
    ");\n",
    "\n",
    "CREATE TABLE delivery(\n",
    "address VARCHAR(255) REFERENCES warehouse,\n",
    "TIN VARCHAR(20) REFERENCES supplier,\n",
    "PRIMARY KEY (address, TIN)\n",
    ");"
   ]
  },
  {
   "attachments": {},
   "cell_type": "markdown",
   "id": "25fcb3f3-2ec6-4264-bd74-d07bfd56fa76",
   "metadata": {},
   "source": [
    "Crie as instruções para o seu preenchimento de forma consistente, garantindo que todas as consultas SQL e OLAP, apresentadas mais adiante, produzam um resultado não vazio. "
   ]
  },
  {
   "cell_type": "code",
   "execution_count": null,
   "id": "e33d841c-c21e-4a9a-88b4-00b45b039261",
   "metadata": {
    "tags": []
   },
   "outputs": [],
   "source": [
    "%%sql\n",
    "%%sql\n",
    "-- populate.sql\n",
    "\n",
    "-- Inserção de dados na tabela \"customer\"\n",
    "INSERT INTO customer (cust_no, name, email, phone, address) VALUES\n",
    "(1, 'John Smith', 'john.smith@example.com', '123456789', '123 Main St'),\n",
    "(2, 'Mary Johnson', 'mary.johnson@example.com', '987654321', '456 Elm St'),\n",
    "(3, 'Michael Brown', 'michael.brown@example.com', '555555555', '789 Oak St'),\n",
    "(4, 'Sarah Johnson', 'sarah.johnson@example.com', '111111111', '987 Oak St'),\n",
    "(5, 'Robert Davis', 'robert.davis@example.com', '222222222', '654 Pine St'),\n",
    "(6, 'Laura Wilson', 'laura.wilson@example.com', '333333333', '321 Cedar St'),\n",
    "(7, 'William Thompson', 'william.thompson@example.com', '444444444', '876 Maple St'),\n",
    "(8, 'Emma Anderson', 'emma.anderson@example.com', '555555555', '543 Birch St'),\n",
    "(9, 'David Garcia', 'david.garcia@example.com', '666666666', '210 Walnut St'),\n",
    "(10, 'Olivia Martin', 'olivia.martin@example.com', '777777777', '987 Cherry St');\n",
    "\n",
    "-- Inserção de dados na tabela \"orders\"\n",
    "INSERT INTO orders (order_no, cust_no, date) VALUES\n",
    "(1, 1, '2022-01-10'),\n",
    "(2, 2, '2022-02-15'),\n",
    "(3, 3, '2022-03-20'),\n",
    "(4, 4, '2022-04-25'),\n",
    "(5, 5, '2022-05-30'),\n",
    "(6, 6, '2022-06-05'),\n",
    "(7, 7, '2022-07-10'),\n",
    "(8, 8, '2022-08-15'),\n",
    "(9, 9, '2022-09-20'),\n",
    "(10, 10, '2022-10-25');\n",
    "\n",
    "-- Inserção de dados na tabela \"pay\"\n",
    "INSERT INTO pay (order_no, cust_no) VALUES\n",
    "(1, 1),\n",
    "(2, 2),\n",
    "(3, 3),\n",
    "(4, 4),\n",
    "(5, 5),\n",
    "(6, 6),\n",
    "(7, 7),\n",
    "(8, 8),\n",
    "(9, 9),\n",
    "(10, 10);\n",
    "\n",
    "-- Inserção de dados na tabela \"employee\"\n",
    "INSERT INTO employee (ssn, TIN, bdate, name) VALUES\n",
    "('111111111', 'TIN111', '1992-03-18', 'Sarah Wilson'),\n",
    "('222222222', 'TIN222', '1985-06-25', 'Robert Johnson'),\n",
    "('333333333', 'TIN333', '1990-09-12', 'Laura Davis'),\n",
    "('444444444', 'TIN444', '1988-12-05', 'William Anderson'),\n",
    "('555555555', 'TIN555', '1987-04-15', 'Emma Garcia'),\n",
    "('666666666', 'TIN666', '1993-07-21', 'David Thompson'),\n",
    "('777777777', 'TIN777', '1989-10-28', 'Olivia Martin');\n",
    "\n",
    "-- Inserção de dados na tabela \"process\"\n",
    "INSERT INTO process (ssn, order_no) VALUES\n",
    "('111111111', 4),\n",
    "('222222222', 5),\n",
    "('333333333', 6),\n",
    "('444444444', 7),\n",
    "('555555555', 8),\n",
    "('666666666', 9),\n",
    "('777777777', 10);\n",
    "\n",
    "-- Inserção de dados na tabela \"department\"\n",
    "INSERT INTO department (name) VALUES\n",
    "('Sales'),\n",
    "('Finance'),\n",
    "('Marketing'),\n",
    "('Human Resources'),\n",
    "('IT'),\n",
    "('Operations'),\n",
    "('Customer Service');\n",
    "\n",
    "-- Inserção de dados na tabela \"workplace\"\n",
    "INSERT INTO workplace (address, lat, long) VALUES\n",
    "('123 Main St', 12.345678, -98.765432),\n",
    "('456 Elm St', 23.456789, -87.654321),\n",
    "('789 Oak St', 34.567890, -76.543210),\n",
    "('321 Cedar St', 45.678901, -65.432109),\n",
    "('654 Pine St', 56.789012, -54.321098),\n",
    "('876 Maple St', 67.890123, -43.210987),\n",
    "('543 Birch St', 78.901234, -32.109876);\n",
    "\n",
    "INSERT INTO office (address) VALUES\n",
    "('123 Main St'),\n",
    "('456 Elm St'),\n",
    "('789 Oak St');\n",
    "\n",
    "-- Inserção de dados na tabela \"warehouse\"\n",
    "INSERT INTO warehouse (address) VALUES\n",
    "('321 Cedar St'),\n",
    "('654 Pine St'),\n",
    "('876 Maple St'),\n",
    "('543 Birch St');\n",
    "\n",
    "\n",
    "-- Inserção de dados na tabela \"works\"\n",
    "INSERT INTO works (ssn, name, address) VALUES\n",
    "('111111111', 'Sales', '123 Main St'),\n",
    "('222222222', 'Finance', '456 Elm St'),\n",
    "('333333333', 'Marketing', '789 Oak St'),\n",
    "('444444444', 'Human Resources', '321 Cedar St'),\n",
    "('555555555', 'IT', '654 Pine St'),\n",
    "('666666666', 'Operations', '876 Maple St'),\n",
    "('777777777', 'Customer Service', '543 Birch St');\n",
    "\n",
    "-- Inserção de dados na tabela \"product\"\n",
    "INSERT INTO product (SKU, name, description, price, ean) VALUES\n",
    "('SKU001', 'Product 1', 'Description 1', 9.99, 1234567890123),\n",
    "('SKU002', 'Product 2', 'Description 2', 12.99, 9876543210987),\n",
    "('SKU003', 'Product 3', 'Description 3', 15.99, 1234567890124),\n",
    "('SKU004', 'Product 4', 'Description 4', 9.99, 9876543210986),\n",
    "('SKU005', 'Product 5', 'Description 5', 12.99, 1111111111111),\n",
    "('SKU006', 'Product 6', 'Description 6', 8.99, 2222222222222),\n",
    "('SKU007', 'Product 7', 'Description 7', 19.99, 3333333333333),\n",
    "('SKU008', 'Product 8', 'Description 8', 14.99, 4444444444444),\n",
    "('SKU009', 'Product 9', 'Description 9', 11.99, 5555555555555),\n",
    "('SKU010', 'Product 10', 'Description 10', 17.99, 6666666666666),\n",
    "('SKU011', 'Product 11', 'Description 11', 9.99, 7777777777777),\n",
    "('SKU012', 'Product 12', 'Description 12', 14.99, 8888888888888),\n",
    "('SKU013', 'Product 13', 'Description 13', 11.99, 9999999999999),\n",
    "('SKU014', 'Product 14', 'Description 14', 7.99, 1010101010101);\n",
    "\n",
    "-- Inserção de dados na tabela \"contains\"\n",
    "INSERT INTO contains (order_no, SKU, qty) VALUES\n",
    "(1, 'SKU001', 2),\n",
    "(2, 'SKU002', 1),\n",
    "(3, 'SKU003', 3),\n",
    "(4, 'SKU004', 2),\n",
    "(5, 'SKU005', 1),\n",
    "(6, 'SKU006', 4),\n",
    "(7, 'SKU007', 3),\n",
    "(8, 'SKU008', 2),\n",
    "(9, 'SKU009', 1),\n",
    "(10, 'SKU010', 3),\n",
    "(1, 'SKU011', 2),\n",
    "(2, 'SKU012', 1),\n",
    "(3, 'SKU013', 4),\n",
    "(4, 'SKU014', 3),\n",
    "(5, 'SKU001', 2),\n",
    "(6, 'SKU002', 1),\n",
    "(7, 'SKU003', 3),\n",
    "(8, 'SKU004', 2),\n",
    "(9, 'SKU005', 1),\n",
    "(10, 'SKU006', 4),\n",
    "(1, 'SKU007', 3),\n",
    "(2, 'SKU008', 2),\n",
    "(3, 'SKU009', 1),\n",
    "(4, 'SKU010', 3),\n",
    "(5, 'SKU011', 2),\n",
    "(6, 'SKU012', 1),\n",
    "(7, 'SKU013', 4),\n",
    "(8, 'SKU014', 3),\n",
    "(9, 'SKU001', 2),\n",
    "(10, 'SKU002', 1),\n",
    "(1, 'SKU003', 3),\n",
    "(2, 'SKU004', 2),\n",
    "(3, 'SKU005', 1),\n",
    "(4, 'SKU006', 4),\n",
    "(5, 'SKU007', 3),\n",
    "(6, 'SKU008', 2),\n",
    "(7, 'SKU009', 1),\n",
    "(8, 'SKU010', 3),\n",
    "(9, 'SKU011', 2),\n",
    "(10, 'SKU012', 1),\n",
    "(1, 'SKU013', 4),\n",
    "(2, 'SKU014', 3),\n",
    "(3, 'SKU001', 2),\n",
    "(4, 'SKU002', 1),\n",
    "(5, 'SKU003', 3),\n",
    "(6, 'SKU004', 2),\n",
    "(7, 'SKU005', 1),\n",
    "(8, 'SKU006', 4),\n",
    "(9, 'SKU007', 3),\n",
    "(10, 'SKU008', 2),\n",
    "(1, 'SKU009', 1),\n",
    "(2, 'SKU010', 3),\n",
    "(3, 'SKU011', 2),\n",
    "(4, 'SKU012', 1),\n",
    "(5, 'SKU013', 4),\n",
    "(6, 'SKU014', 3),\n",
    "(7, 'SKU001', 2),\n",
    "(8, 'SKU002', 1),\n",
    "(9, 'SKU003', 3),\n",
    "(10, 'SKU004', 2);\n",
    "\n",
    "-- Inserção de dados na tabela \"supplier\"\n",
    "INSERT INTO supplier (TIN, name, address, SKU, date) VALUES\n",
    "('TIN001', 'Supplier 1', '123 Supplier St', 'SKU001', '2022-01-01'),\n",
    "('TIN002', 'Supplier 2', '456 Supplier St', 'SKU002', '2022-02-05'),\n",
    "('TIN003', 'Supplier 3', '789 Supplier St', 'SKU003', '2022-03-10'),\n",
    "('TIN004', 'Supplier 4', '321 Supplier St', 'SKU004', '2022-04-15'),\n",
    "('TIN005', 'Supplier 5', '654 Supplier St', 'SKU005', '2022-05-20'),\n",
    "('TIN006', 'Supplier 6', '876 Supplier St', 'SKU006', '2022-06-25'),\n",
    "('TIN007', 'Supplier 7', '543 Supplier St', 'SKU007', '2022-07-30');\n",
    "\n",
    "-- Inserção de dados na tabela \"delivery\"\n",
    "INSERT INTO delivery (address, TIN) VALUES\n",
    "('321 Cedar St', 'TIN001'),\n",
    "('654 Pine St', 'TIN002'),\n",
    "('876 Maple St', 'TIN003'),\n",
    "('543 Birch St', 'TIN004');\n"
   ]
  },
  {
   "attachments": {},
   "cell_type": "markdown",
   "id": "9772880f-58f0-46c8-9670-737390210bb4",
   "metadata": {
    "tags": []
   },
   "source": [
    "## 1. Restrições de Integridade\n",
    "\n",
    "Apresente o código para implementar as seguintes restrições de integridade, se necessário, com recurso a extensões procedimentais SQL (Stored Procedures e Triggers):"
   ]
  },
  {
   "attachments": {},
   "cell_type": "markdown",
   "id": "a0a92dd6-9093-4f4e-addf-591d83c466b3",
   "metadata": {},
   "source": [
    "(RI-1) Nenhum empregado pode ter menos de 18 anos de idade"
   ]
  },
  {
   "cell_type": "code",
   "execution_count": null,
   "id": "c422052c-0463-46ae-9be1-b6f6ed19d2b9",
   "metadata": {
    "tags": []
   },
   "outputs": [],
   "source": [
    "%%sql\n",
    "-- (RI-1) \n",
    "CREATE OR REPLACE FUNCTION check_underage_employee() RETURNS TRIGGER AS\n",
    "$$\n",
    "BEGIN\n",
    "    IF age(NEW.bdate) < INTERVAL '18 years' THEN\n",
    "        RAISE EXCEPTION 'The employee % is underage.', NEW.name;\n",
    "    END IF;\n",
    "    RETURN NEW;\n",
    "END;\n",
    "$$ LANGUAGE plpgsql;\n",
    "\n",
    "CREATE TRIGGER check_underage_employee\n",
    "BEFORE INSERT OR UPDATE ON employee \n",
    "FOR EACH ROW EXECUTE FUNCTION check_underage_employee();\n",
    "\n",
    "\n",
    "\n"
   ]
  },
  {
   "attachments": {},
   "cell_type": "markdown",
   "id": "e99193b5-fd48-4601-a226-34432074af53",
   "metadata": {},
   "source": [
    "(RI-2) Um 'Workplace' é obrigatoriamente um 'Office' ou 'Warehouse' mas não pode ser ambos"
   ]
  },
  {
   "cell_type": "code",
   "execution_count": null,
   "id": "188ec396-6e55-4fd3-b436-dcafe454f677",
   "metadata": {
    "tags": []
   },
   "outputs": [],
   "source": [
    "%%sql\n",
    "-- (RI-2)\n"
   ]
  },
  {
   "attachments": {},
   "cell_type": "markdown",
   "id": "7e659751-bbd0-475a-b36e-8d40d7d58a54",
   "metadata": {},
   "source": [
    "(RI-3) Uma 'Order' tem de figurar obrigatoriamente em 'Contains'."
   ]
  },
  {
   "cell_type": "code",
   "execution_count": null,
   "id": "f2993b94-77a8-4b09-b522-f39021c55131",
   "metadata": {
    "tags": []
   },
   "outputs": [],
   "source": [
    "%%sql\n",
    "-- (RI-3)\n"
   ]
  },
  {
   "attachments": {},
   "cell_type": "markdown",
   "id": "37637f46-470f-431a-9833-4d8665176450",
   "metadata": {
    "tags": []
   },
   "source": [
    "## 2. Consultas SQL"
   ]
  },
  {
   "attachments": {},
   "cell_type": "markdown",
   "id": "f861ee47-e72b-4633-8dac-b4728ed852b9",
   "metadata": {},
   "source": [
    "Apresente a consulta SQL mais sucinta para cada uma das seguintes questões"
   ]
  },
  {
   "attachments": {},
   "cell_type": "markdown",
   "id": "fd2e1654-059e-4ef5-a63d-5e81280baab0",
   "metadata": {},
   "source": [
    "1) Qual o número e nome do(s) cliente(s) com maior valor total de encomendas pagas?  "
   ]
  },
  {
   "cell_type": "code",
   "execution_count": null,
   "id": "5b79ced0-279d-4e04-921e-0c831d7a79f2",
   "metadata": {
    "tags": []
   },
   "outputs": [],
   "source": [
    "%%sql\n",
    "-- SELECT ...\n",
    "SELECT c.cust_no, c.name \n",
    "FROM customer as c\n",
    "    JOIN pay USING(cust_no)\n",
    "    JOIN orders USING(order_no)\n",
    "    JOIN contains USING(order_no)\n",
    "    JOIN product USING(SKU)\n",
    "GROUP BY c.cust_no\n",
    "HAVING sum(qty * price) >= ALL\n",
    "   ( SELECT sum(qty * price) \n",
    "FROM customer as c2\n",
    "    JOIN pay USING (cust_no)\n",
    "    JOIN orders USING(order_no)\n",
    "    JOIN contains USING(order_no)\n",
    "    JOIN product USING(SKU)\n",
    "GROUP BY c2.cust_no\n",
    ");"
   ]
  },
  {
   "attachments": {},
   "cell_type": "markdown",
   "id": "4f863499-c40e-428c-85e8-d2741362906d",
   "metadata": {},
   "source": [
    "2. Qual o nome dos empregados que processaram encomendas em todos os dias de 2022 em que houve encomendas?"
   ]
  },
  {
   "cell_type": "code",
   "execution_count": null,
   "id": "aadac5e9-d0e4-46e0-bab5-33d00b863884",
   "metadata": {
    "tags": []
   },
   "outputs": [],
   "source": [
    "%%sql\n",
    "-- SELECT ...\n",
    "SELECT DISTINCT e.name \n",
    "FROM employee as e\n",
    "WHERE NOT EXISTS (\n",
    "    SELECT o.date\n",
    "    FROM orders as o\n",
    "    WHERE EXTRACT(YEAR FROM o.date) = '2022'\n",
    "    EXCEPT\n",
    "    SELECT o1.date\n",
    "    FROM orders as o1\n",
    "    JOIN process p USING(order_no)\n",
    "    WHERE e.ssn = p.ssn) ;\n"
   ]
  },
  {
   "attachments": {},
   "cell_type": "markdown",
   "id": "e871bc9e-60c4-465b-a727-9ff2d2115d0b",
   "metadata": {},
   "source": [
    "3. Quantas encomendas foram realizadas mas não pagas em cada mês de 2022?"
   ]
  },
  {
   "cell_type": "code",
   "execution_count": null,
   "id": "3e3e702e-1acb-4004-aa9e-31e4d5916669",
   "metadata": {
    "tags": []
   },
   "outputs": [],
   "source": [
    "%%sql\n",
    "-- SELECT ...\n",
    "SELECT to_char( o.date,'Month') AS month, count(*)\n",
    "FROM orders as o\n",
    "WHERE EXTRACT(YEAR FROM o.date ) = '2022' \n",
    "AND o.order_no NOT IN (SELECT p.order_no FROM pay as p)\n",
    "GROUP BY month;"
   ]
  },
  {
   "attachments": {},
   "cell_type": "markdown",
   "id": "97f45cec-fe42-418a-b85d-c9e51807a42c",
   "metadata": {},
   "source": [
    "## 3. Vistas"
   ]
  },
  {
   "attachments": {},
   "cell_type": "markdown",
   "id": "03062b56-40fa-41c0-aac9-3e77b9049c27",
   "metadata": {},
   "source": [
    "Crie uma vista que resuma as informações mais importantes sobre as vendas de produtos, combinando informações de diferentes tabelas do esquema de base de dados. A vista deve ter o seguinte esquema:\n",
    "\n",
    "product_sales(sku, order_no, qty, total_price, year, month, day_of_month, day_of_week, city)"
   ]
  },
  {
   "cell_type": "code",
   "execution_count": null,
   "id": "0bbb2226-5de4-4051-b4c0-9130bd4904f5",
   "metadata": {
    "tags": []
   },
   "outputs": [],
   "source": [
    "%%sql\n",
    "-- CREATE VIEW ..."
   ]
  },
  {
   "attachments": {},
   "cell_type": "markdown",
   "id": "6b615865-602f-4974-9de1-27d0060362ef",
   "metadata": {
    "tags": []
   },
   "source": [
    "## 4. Desenvolvimento de Aplicação"
   ]
  },
  {
   "attachments": {},
   "cell_type": "markdown",
   "id": "0bad635d-f5c2-449f-97b0-90d10a4d482b",
   "metadata": {},
   "source": [
    "### Explicação da arquitetura da aplicação web, incluindo um link para uma versão de trabalho e as relações entre os vários ficheiros na pasta web/arquivos\n",
    "\n",
    "..."
   ]
  },
  {
   "attachments": {},
   "cell_type": "markdown",
   "id": "5dff0f43-90cc-4ab5-b874-c3fb24776728",
   "metadata": {},
   "source": [
    "## 5. Consultas OLAP"
   ]
  },
  {
   "attachments": {},
   "cell_type": "markdown",
   "id": "5c8c25ed-b858-4daf-a291-b59e489c0a44",
   "metadata": {},
   "source": [
    "Usando a vista desenvolvida para a Questão 3, escreva duas consultas SQL que permitam analisar:"
   ]
  },
  {
   "attachments": {},
   "cell_type": "markdown",
   "id": "bd8d173c-e72f-4e89-8949-e2df3b7b07a3",
   "metadata": {},
   "source": [
    "1. As quantidade e valores totais de venda de cada produto em 2022, globalmente, por cidade, por mês, dia do mês e dia da semana"
   ]
  },
  {
   "cell_type": "code",
   "execution_count": null,
   "id": "bf12ce01-15c0-4e7c-b329-576dd344ebf6",
   "metadata": {
    "tags": []
   },
   "outputs": [],
   "source": [
    "%%sql\n",
    "-- SELECT ..."
   ]
  },
  {
   "attachments": {},
   "cell_type": "markdown",
   "id": "a6f88296-429c-4c1c-9a7a-5cbe9cb65920",
   "metadata": {},
   "source": [
    "2. O valor médio diário das vendas de todos os produtos em 2022, globalmente, por mês e dia da semana"
   ]
  },
  {
   "cell_type": "code",
   "execution_count": null,
   "id": "7aac0901-02ad-4a40-964e-dc03430f8e77",
   "metadata": {
    "tags": []
   },
   "outputs": [],
   "source": [
    "%%sql\n",
    "-- SELECT ..."
   ]
  },
  {
   "attachments": {},
   "cell_type": "markdown",
   "id": "5a75300b-51d0-4512-8b50-ffac98d66070",
   "metadata": {
    "tags": []
   },
   "source": [
    "## 6. Índices"
   ]
  },
  {
   "attachments": {},
   "cell_type": "markdown",
   "id": "35f160cc-30e9-4381-9b3e-0d78ef421af8",
   "metadata": {
    "tags": []
   },
   "source": [
    "Indique, com a devida justificação, que tipo de índice(s), sobre qual(is) atributo(s) e sobre qual(is) tabela(s) faria sentido criar, de forma a agilizar a execução de cada uma das seguintes consultas: "
   ]
  },
  {
   "attachments": {},
   "cell_type": "markdown",
   "id": "6e6e7eb2-c8ba-4d93-a31b-a2384d538fc0",
   "metadata": {},
   "source": [
    "### 6.1\n",
    "SELECT order_no\n",
    "FROM orders \n",
    "JOIN contains USING (order_no) \n",
    "JOIN product USING (SKU) \n",
    "WHERE price > 50 AND \n",
    "EXTRACT(YEAR FROM date) = 2023"
   ]
  },
  {
   "attachments": {},
   "cell_type": "markdown",
   "id": "b12768c7-efcc-4550-a7c1-7f8bbafd6409",
   "metadata": {},
   "source": [
    "### Tipo de Índice, Atributos & Justificação\n",
    "\n",
    "..."
   ]
  },
  {
   "attachments": {},
   "cell_type": "markdown",
   "id": "89f6cb2b-8425-42f8-810c-9c9e5797b686",
   "metadata": {},
   "source": [
    "### 6.2\n",
    "SELECT order_no, SUM(qty*price)\n",
    "FROM contains \n",
    "JOIN product USING (SKU) \n",
    "WHERE name LIKE ‘A%’ \n",
    "GROUP BY order_no;"
   ]
  },
  {
   "attachments": {},
   "cell_type": "markdown",
   "id": "1af12988-e1f5-4a72-835d-9aba30d0ce88",
   "metadata": {},
   "source": [
    "### Tipo de Índice, Atributos & Justificação\n",
    "\n",
    "..."
   ]
  }
 ],
 "metadata": {
  "kernelspec": {
   "display_name": "Python 3 (ipykernel)",
   "language": "python",
   "name": "python3"
  },
  "language_info": {
   "codemirror_mode": {
    "name": "ipython",
    "version": 3
   },
   "file_extension": ".py",
   "mimetype": "text/x-python",
   "name": "python",
   "nbconvert_exporter": "python",
   "pygments_lexer": "ipython3",
   "version": "3.10.11"
  }
 },
 "nbformat": 4,
 "nbformat_minor": 5
}
